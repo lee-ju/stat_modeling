{
  "nbformat": 4,
  "nbformat_minor": 0,
  "metadata": {
    "colab": {
      "provenance": [],
      "collapsed_sections": []
    },
    "kernelspec": {
      "name": "python3",
      "display_name": "Python 3"
    },
    "language_info": {
      "name": "python"
    }
  },
  "cells": [
    {
      "cell_type": "markdown",
      "source": [
        "**데이터 불러오기: Breast Cancer**"
      ],
      "metadata": {
        "id": "GnhDQtuPQmMk"
      }
    },
    {
      "cell_type": "code",
      "source": [
        "# https://scikit-learn.org/stable/modules/generated/sklearn.datasets.load_breast_cancer.html#sklearn.datasets.load_breast_cancer\n",
        "import numpy as np\n",
        "import pandas as pd\n",
        "import matplotlib.pyplot as plt\n",
        "%matplotlib inline\n",
        "\n",
        "from sklearn.datasets import load_breast_cancer\n",
        "X, y = load_breast_cancer(return_X_y=True, as_frame=True)"
      ],
      "metadata": {
        "id": "w-erF3gYJ3iy"
      },
      "execution_count": 1,
      "outputs": []
    },
    {
      "cell_type": "code",
      "source": [
        "print(X.columns)"
      ],
      "metadata": {
        "colab": {
          "base_uri": "https://localhost:8080/"
        },
        "id": "AEv_8qfcKsys",
        "outputId": "bac1fb21-d7a8-48a7-b68a-164e8b39247f"
      },
      "execution_count": 2,
      "outputs": [
        {
          "output_type": "stream",
          "name": "stdout",
          "text": [
            "Index(['mean radius', 'mean texture', 'mean perimeter', 'mean area',\n",
            "       'mean smoothness', 'mean compactness', 'mean concavity',\n",
            "       'mean concave points', 'mean symmetry', 'mean fractal dimension',\n",
            "       'radius error', 'texture error', 'perimeter error', 'area error',\n",
            "       'smoothness error', 'compactness error', 'concavity error',\n",
            "       'concave points error', 'symmetry error', 'fractal dimension error',\n",
            "       'worst radius', 'worst texture', 'worst perimeter', 'worst area',\n",
            "       'worst smoothness', 'worst compactness', 'worst concavity',\n",
            "       'worst concave points', 'worst symmetry', 'worst fractal dimension'],\n",
            "      dtype='object')\n"
          ]
        }
      ]
    },
    {
      "cell_type": "markdown",
      "source": [
        "**데이터 분할**"
      ],
      "metadata": {
        "id": "2DT5Xi__QrDN"
      }
    },
    {
      "cell_type": "code",
      "source": [
        "from sklearn.model_selection import train_test_split\n",
        "trn_X, tst_X, trn_y, tst_y = train_test_split(X, y, test_size=0.3,\n",
        "                                              random_state=1234)\n",
        "print(trn_X.shape, tst_X.shape)"
      ],
      "metadata": {
        "colab": {
          "base_uri": "https://localhost:8080/"
        },
        "id": "g80-r1LnLtg_",
        "outputId": "0d9737b0-8ca5-48b3-d34f-3071371ec528"
      },
      "execution_count": 3,
      "outputs": [
        {
          "output_type": "stream",
          "name": "stdout",
          "text": [
            "(398, 30) (171, 30)\n"
          ]
        }
      ]
    },
    {
      "cell_type": "markdown",
      "source": [
        "**데이터 분할 with k-fold CV**"
      ],
      "metadata": {
        "id": "6IfokCrQQtJH"
      }
    },
    {
      "cell_type": "code",
      "source": [
        "from sklearn.model_selection import KFold\n",
        "\n",
        "num_cv = 5 # k in k-fold cv\n",
        "k_fold = KFold(n_splits=num_cv, shuffle=True)\n",
        "\n",
        "k = 1\n",
        "for idx_trn, idx_val in k_fold.split(trn_X):\n",
        "  X_trn, X_val = trn_X.iloc[idx_trn, :], trn_X.iloc[idx_val, :]\n",
        "  y_trn, y_val = trn_y.iloc[idx_trn], trn_y.iloc[idx_val]\n",
        "\n",
        "  ratio_train = round(X_trn.shape[0] / trn_X.shape[0], 4)\n",
        "  ratio_valid = round(X_val.shape[0] / trn_X.shape[0], 4)\n",
        "  print('k={}, training={}%, validation={}%'.format(k,\n",
        "                                                    ratio_train*100,\n",
        "                                                    ratio_valid*100))\n",
        "  k += 1"
      ],
      "metadata": {
        "colab": {
          "base_uri": "https://localhost:8080/"
        },
        "id": "MgXNbR6gMGoR",
        "outputId": "83a84daf-8c93-4065-9c8c-a4e485bb9a8c"
      },
      "execution_count": 4,
      "outputs": [
        {
          "output_type": "stream",
          "name": "stdout",
          "text": [
            "k=1, training=79.9%, validation=20.1%\n",
            "k=2, training=79.9%, validation=20.1%\n",
            "k=3, training=79.9%, validation=20.1%\n",
            "k=4, training=80.15%, validation=19.85%\n",
            "k=5, training=80.15%, validation=19.85%\n"
          ]
        }
      ]
    },
    {
      "cell_type": "code",
      "source": [
        "from sklearn.ensemble import RandomForestClassifier\n",
        "from sklearn.metrics import accuracy_score\n",
        "num_cv = 5\n",
        "k_fold = KFold(n_splits=num_cv, shuffle=True)\n",
        "\n",
        "acc = []\n",
        "k = 1\n",
        "for idx_trn, idx_val in k_fold.split(trn_X):\n",
        "  print('Iteration', k)\n",
        "  \n",
        "  X_trn, X_val = trn_X.iloc[idx_trn, :], trn_X.iloc[idx_val, :]\n",
        "  y_trn, y_val = trn_y.iloc[idx_trn], trn_y.iloc[idx_val]\n",
        "\n",
        "  clf = RandomForestClassifier(n_estimators=50,\n",
        "                               max_depth=5,\n",
        "                               max_features='sqrt').fit(X_trn, y_trn)\n",
        "  prd = clf.predict(X_val)\n",
        "\n",
        "  acc.append(\n",
        "      accuracy_score(y_val, prd)\n",
        "  )\n",
        "\n",
        "  k += 1"
      ],
      "metadata": {
        "colab": {
          "base_uri": "https://localhost:8080/"
        },
        "id": "xr4nRZ4-MGja",
        "outputId": "63445949-779e-4650-e3dc-6953f851d0f3"
      },
      "execution_count": 5,
      "outputs": [
        {
          "output_type": "stream",
          "name": "stdout",
          "text": [
            "Iteration 1\n",
            "Iteration 2\n",
            "Iteration 3\n",
            "Iteration 4\n",
            "Iteration 5\n"
          ]
        }
      ]
    },
    {
      "cell_type": "code",
      "source": [
        "print('정확도의 개수:', len(acc))\n",
        "print('정확도의 평균:', np.mean(acc))\n",
        "print('정확도의 편차:', np.std(acc))"
      ],
      "metadata": {
        "colab": {
          "base_uri": "https://localhost:8080/"
        },
        "id": "synLnV3TMGg4",
        "outputId": "adff0042-3f89-48b4-b294-473fecd9bd8a"
      },
      "execution_count": 6,
      "outputs": [
        {
          "output_type": "stream",
          "name": "stdout",
          "text": [
            "정확도의 개수: 5\n",
            "정확도의 평균: 0.9572784810126581\n",
            "정확도의 편차: 0.012787708031012772\n"
          ]
        }
      ]
    },
    {
      "cell_type": "markdown",
      "source": [
        "**k-fold CV + Hyperparameter 선택**"
      ],
      "metadata": {
        "id": "Gb--EmJFQjvH"
      }
    },
    {
      "cell_type": "code",
      "source": [
        "num_trees = [10, 30, 50]\n",
        "max_depths = [2, 3, 5]\n",
        "\n",
        "num_cv = 5\n",
        "k_fold = KFold(n_splits=num_cv, shuffle=True)\n",
        "\n",
        "k = 1\n",
        "acc_avg = []\n",
        "acc_std = []\n",
        "params = []\n",
        "\n",
        "# 하이퍼파라메터 선택\n",
        "for T in num_trees:\n",
        "  for M in max_depths:\n",
        "\n",
        "    params.append(str(T)+'&'+str(M))\n",
        "    # k-fold CV\n",
        "    acc = []\n",
        "    k = 1\n",
        "    for idx_trn, idx_val in k_fold.split(trn_X):\n",
        "      print('n_estimators={}, max_depth={}, k={}'.format(T, M, k))\n",
        "      \n",
        "      X_trn, X_val = trn_X.iloc[idx_trn, :], trn_X.iloc[idx_val, :]\n",
        "      y_trn, y_val = trn_y.iloc[idx_trn], trn_y.iloc[idx_val]\n",
        "\n",
        "      clf = RandomForestClassifier(n_estimators=T,\n",
        "                                   max_depth=M).fit(X_trn, y_trn)\n",
        "      prd = clf.predict(X_val)\n",
        "\n",
        "      acc.append(\n",
        "          accuracy_score(y_val, prd)\n",
        "      )\n",
        "      k += 1\n",
        "    \n",
        "    acc_avg.append(np.mean(acc))\n",
        "    acc_std.append(np.std(acc))\n",
        "    print('\\n')"
      ],
      "metadata": {
        "colab": {
          "base_uri": "https://localhost:8080/"
        },
        "id": "0-e9Jn_QMGeP",
        "outputId": "9fdc37a6-e708-466b-c184-762aaf979cdb"
      },
      "execution_count": 7,
      "outputs": [
        {
          "output_type": "stream",
          "name": "stdout",
          "text": [
            "n_estimators=10, max_depth=2, k=1\n",
            "n_estimators=10, max_depth=2, k=2\n",
            "n_estimators=10, max_depth=2, k=3\n",
            "n_estimators=10, max_depth=2, k=4\n",
            "n_estimators=10, max_depth=2, k=5\n",
            "\n",
            "\n",
            "n_estimators=10, max_depth=3, k=1\n",
            "n_estimators=10, max_depth=3, k=2\n",
            "n_estimators=10, max_depth=3, k=3\n",
            "n_estimators=10, max_depth=3, k=4\n",
            "n_estimators=10, max_depth=3, k=5\n",
            "\n",
            "\n",
            "n_estimators=10, max_depth=5, k=1\n",
            "n_estimators=10, max_depth=5, k=2\n",
            "n_estimators=10, max_depth=5, k=3\n",
            "n_estimators=10, max_depth=5, k=4\n",
            "n_estimators=10, max_depth=5, k=5\n",
            "\n",
            "\n",
            "n_estimators=30, max_depth=2, k=1\n",
            "n_estimators=30, max_depth=2, k=2\n",
            "n_estimators=30, max_depth=2, k=3\n",
            "n_estimators=30, max_depth=2, k=4\n",
            "n_estimators=30, max_depth=2, k=5\n",
            "\n",
            "\n",
            "n_estimators=30, max_depth=3, k=1\n",
            "n_estimators=30, max_depth=3, k=2\n",
            "n_estimators=30, max_depth=3, k=3\n",
            "n_estimators=30, max_depth=3, k=4\n",
            "n_estimators=30, max_depth=3, k=5\n",
            "\n",
            "\n",
            "n_estimators=30, max_depth=5, k=1\n",
            "n_estimators=30, max_depth=5, k=2\n",
            "n_estimators=30, max_depth=5, k=3\n",
            "n_estimators=30, max_depth=5, k=4\n",
            "n_estimators=30, max_depth=5, k=5\n",
            "\n",
            "\n",
            "n_estimators=50, max_depth=2, k=1\n",
            "n_estimators=50, max_depth=2, k=2\n",
            "n_estimators=50, max_depth=2, k=3\n",
            "n_estimators=50, max_depth=2, k=4\n",
            "n_estimators=50, max_depth=2, k=5\n",
            "\n",
            "\n",
            "n_estimators=50, max_depth=3, k=1\n",
            "n_estimators=50, max_depth=3, k=2\n",
            "n_estimators=50, max_depth=3, k=3\n",
            "n_estimators=50, max_depth=3, k=4\n",
            "n_estimators=50, max_depth=3, k=5\n",
            "\n",
            "\n",
            "n_estimators=50, max_depth=5, k=1\n",
            "n_estimators=50, max_depth=5, k=2\n",
            "n_estimators=50, max_depth=5, k=3\n",
            "n_estimators=50, max_depth=5, k=4\n",
            "n_estimators=50, max_depth=5, k=5\n",
            "\n",
            "\n"
          ]
        }
      ]
    },
    {
      "cell_type": "code",
      "source": [
        "results = pd.DataFrame({'params': params,\n",
        "                        'avg': acc_avg,\n",
        "                        'std': acc_std})\n",
        "print(results.sort_values('avg', ascending=False))"
      ],
      "metadata": {
        "colab": {
          "base_uri": "https://localhost:8080/"
        },
        "id": "D5I-WyuT8ne5",
        "outputId": "7db7e813-2362-4582-a2b2-0efe2caf003e"
      },
      "execution_count": 8,
      "outputs": [
        {
          "output_type": "stream",
          "name": "stdout",
          "text": [
            "  params       avg       std\n",
            "2   10&5  0.962310  0.007909\n",
            "8   50&5  0.959937  0.022837\n",
            "3   30&2  0.959747  0.021772\n",
            "4   30&3  0.959747  0.021772\n",
            "1   10&3  0.959684  0.023225\n",
            "0   10&2  0.957278  0.025759\n",
            "5   30&5  0.957247  0.012961\n",
            "7   50&3  0.949620  0.038499\n",
            "6   50&2  0.944747  0.014972\n"
          ]
        }
      ]
    },
    {
      "cell_type": "code",
      "source": [
        "x = results.index\n",
        "fig, ax = plt.subplots(1, 1)\n",
        "plt.errorbar(x, results['avg'], results['std'],\n",
        "             ecolor='red', elinewidth=5,\n",
        "             capsize=8, capthick=1,\n",
        "             linewidth=4, linestyle='--', color='blue',\n",
        "             marker='o', markerfacecolor='black', markeredgecolor='green', markersize=10)\n",
        "ax.set_xticks(x)\n",
        "ax.set_xticklabels(results['params'])\n",
        "\n",
        "plt.show()"
      ],
      "metadata": {
        "colab": {
          "base_uri": "https://localhost:8080/",
          "height": 265
        },
        "id": "W4VLKSPK9X79",
        "outputId": "383af604-9f67-4595-9926-c8c20a30ecee"
      },
      "execution_count": 9,
      "outputs": [
        {
          "output_type": "display_data",
          "data": {
            "text/plain": [
              "<Figure size 432x288 with 1 Axes>"
            ],
            "image/png": "[encoded data removed]"
          },
          "metadata": {
            "needs_background": "light"
          }
        }
      ]
    },
    {
      "cell_type": "code",
      "source": [
        "# T&M = 30&3일 때, 성능이 안정적이므로 선택\n",
        "# 또는 T&M = 10&5일 때, 성능이 가장 높으므로 선택할 수도 있음!\n",
        "\n",
        "opt_T = 30\n",
        "opt_max_depth = 3\n",
        "\n",
        "opt_clf = RandomForestClassifier(n_estimators=opt_T,\n",
        "                                 max_depth=opt_max_depth).fit(trn_X, trn_y)"
      ],
      "metadata": {
        "id": "TzjlbDrh9oE2"
      },
      "execution_count": 10,
      "outputs": []
    },
    {
      "cell_type": "code",
      "source": [
        "from sklearn.metrics import confusion_matrix, classification_report\n",
        "opt_prd = opt_clf.predict(tst_X)\n",
        "print(confusion_matrix(tst_y, opt_prd))\n",
        "print(classification_report(tst_y, opt_prd))"
      ],
      "metadata": {
        "colab": {
          "base_uri": "https://localhost:8080/"
        },
        "id": "94WGwYmeAFT7",
        "outputId": "54938719-67f1-41cc-9280-e4c5a0a1b6ca"
      },
      "execution_count": 11,
      "outputs": [
        {
          "output_type": "stream",
          "name": "stdout",
          "text": [
            "[[ 55  11]\n",
            " [  4 101]]\n",
            "              precision    recall  f1-score   support\n",
            "\n",
            "           0       0.93      0.83      0.88        66\n",
            "           1       0.90      0.96      0.93       105\n",
            "\n",
            "    accuracy                           0.91       171\n",
            "   macro avg       0.92      0.90      0.91       171\n",
            "weighted avg       0.91      0.91      0.91       171\n",
            "\n"
          ]
        }
      ]
    },
    {
      "cell_type": "markdown",
      "source": [
        "**k-fold CV + Hyperparameter 선택 with Scikit-learn**"
      ],
      "metadata": {
        "id": "GO6xFtmvARJx"
      }
    },
    {
      "cell_type": "code",
      "source": [
        "from sklearn.model_selection import GridSearchCV\n",
        "\n",
        "# GridSearchCV의 param_grid 설정\n",
        "params = {'n_estimators': [10, 30, 50],\n",
        "          'max_depth': [2, 3, 5]}\n",
        "\n",
        "num_cv = 5\n",
        "\n",
        "clf = RandomForestClassifier() # No Fit!!!\n",
        "\n",
        "grid_clf = GridSearchCV(clf,\n",
        "                        param_grid=params,\n",
        "                        cv=num_cv,\n",
        "                        n_jobs=-1)\n",
        "\n",
        "grid_clf.fit(trn_X, trn_y) # Grid search with k-fold CV"
      ],
      "metadata": {
        "colab": {
          "base_uri": "https://localhost:8080/"
        },
        "id": "qPYmv55wANq7",
        "outputId": "bcfc0591-764d-459e-faa1-ff09a4017331"
      },
      "execution_count": 12,
      "outputs": [
        {
          "output_type": "execute_result",
          "data": {
            "text/plain": [
              "GridSearchCV(cv=5, estimator=RandomForestClassifier(), n_jobs=-1,\n",
              "             param_grid={'max_depth': [2, 3, 5], 'n_estimators': [10, 30, 50]})"
            ]
          },
          "metadata": {},
          "execution_count": 12
        }
      ]
    },
    {
      "cell_type": "code",
      "source": [
        "print('Best Parameters', grid_clf.best_params_)"
      ],
      "metadata": {
        "colab": {
          "base_uri": "https://localhost:8080/"
        },
        "id": "H8YzCgjpA7uL",
        "outputId": "22f12b75-f6b2-4d72-ebc9-65418dbbc910"
      },
      "execution_count": 13,
      "outputs": [
        {
          "output_type": "stream",
          "name": "stdout",
          "text": [
            "Best Parameters {'max_depth': 2, 'n_estimators': 30}\n"
          ]
        }
      ]
    },
    {
      "cell_type": "code",
      "source": [
        "print('Best Score=', grid_clf.best_score_)"
      ],
      "metadata": {
        "colab": {
          "base_uri": "https://localhost:8080/"
        },
        "id": "hmCaU88LBASG",
        "outputId": "cdff7fef-1908-4ace-835c-c156a2c0b8a0"
      },
      "execution_count": 14,
      "outputs": [
        {
          "output_type": "stream",
          "name": "stdout",
          "text": [
            "Best Score= 0.9623101265822784\n"
          ]
        }
      ]
    },
    {
      "cell_type": "code",
      "source": [
        "results = pd.DataFrame(grid_clf.cv_results_)\n",
        "results"
      ],
      "metadata": {
        "colab": {
          "base_uri": "https://localhost:8080/",
          "height": 864
        },
        "id": "tTam5G6uBHvu",
        "outputId": "676fe0fe-41c8-44f7-d13a-7aa74883e5a6"
      },
      "execution_count": 15,
      "outputs": [
        {
          "output_type": "execute_result",
          "data": {
            "text/plain": [
              "   mean_fit_time  std_fit_time  mean_score_time  std_score_time  \\\n",
              "0       0.039101      0.010999         0.010889        0.006920   \n",
              "1       0.136031      0.039477         0.016655        0.010456   \n",
              "2       0.221960      0.070111         0.019403        0.006779   \n",
              "3       0.058626      0.029230         0.011493        0.008415   \n",
              "4       0.124020      0.048927         0.011356        0.003279   \n",
              "5       0.227227      0.064193         0.022303        0.008268   \n",
              "6       0.065340      0.018075         0.009824        0.004097   \n",
              "7       0.134198      0.028054         0.014422        0.006669   \n",
              "8       0.259437      0.069150         0.021700        0.013713   \n",
              "\n",
              "  param_max_depth param_n_estimators                                params  \\\n",
              "0               2                 10  {'max_depth': 2, 'n_estimators': 10}   \n",
              "1               2                 30  {'max_depth': 2, 'n_estimators': 30}   \n",
              "2               2                 50  {'max_depth': 2, 'n_estimators': 50}   \n",
              "3               3                 10  {'max_depth': 3, 'n_estimators': 10}   \n",
              "4               3                 30  {'max_depth': 3, 'n_estimators': 30}   \n",
              "5               3                 50  {'max_depth': 3, 'n_estimators': 50}   \n",
              "6               5                 10  {'max_depth': 5, 'n_estimators': 10}   \n",
              "7               5                 30  {'max_depth': 5, 'n_estimators': 30}   \n",
              "8               5                 50  {'max_depth': 5, 'n_estimators': 50}   \n",
              "\n",
              "   split0_test_score  split1_test_score  split2_test_score  split3_test_score  \\\n",
              "0             0.9375             0.9375             0.9500           0.949367   \n",
              "1             0.9750             0.9500             0.9625           0.987342   \n",
              "2             0.9375             0.9500             0.9500           0.987342   \n",
              "3             0.9500             0.9375             0.9750           0.949367   \n",
              "4             0.9375             0.9375             0.9625           0.987342   \n",
              "5             0.9375             0.9375             0.9750           0.987342   \n",
              "6             0.9625             0.9375             0.9625           0.974684   \n",
              "7             0.9375             0.9500             0.9750           0.987342   \n",
              "8             0.9250             0.9375             0.9500           0.974684   \n",
              "\n",
              "   split4_test_score  mean_test_score  std_test_score  rank_test_score  \n",
              "0           0.949367         0.944747        0.005922                9  \n",
              "1           0.936709         0.962310        0.017858                1  \n",
              "2           0.949367         0.954842        0.016934                4  \n",
              "3           0.936709         0.949715        0.013841                7  \n",
              "4           0.936709         0.952310        0.020066                6  \n",
              "5           0.936709         0.954810        0.021876                5  \n",
              "6           0.949367         0.957310        0.012738                2  \n",
              "7           0.936709         0.957310        0.020421                2  \n",
              "8           0.949367         0.947310        0.016461                8  "
            ],
            "text/html": [
              "\n",
              "  <div id=\"df-dfd96b91-450d-45ec-bfb4-c21173a21c56\">\n",
              "    <div class=\"colab-df-container\">\n",
              "      <div>\n",
              "<style scoped>\n",
              "    .dataframe tbody tr th:only-of-type {\n",
              "        vertical-align: middle;\n",
              "    }\n",
              "\n",
              "    .dataframe tbody tr th {\n",
              "        vertical-align: top;\n",
              "    }\n",
              "\n",
              "    .dataframe thead th {\n",
              "        text-align: right;\n",
              "    }\n",
              "</style>\n",
              "<table border=\"1\" class=\"dataframe\">\n",
              "  <thead>\n",
              "    <tr style=\"text-align: right;\">\n",
              "      <th></th>\n",
              "      <th>mean_fit_time</th>\n",
              "      <th>std_fit_time</th>\n",
              "      <th>mean_score_time</th>\n",
              "      <th>std_score_time</th>\n",
              "      <th>param_max_depth</th>\n",
              "      <th>param_n_estimators</th>\n",
              "      <th>params</th>\n",
              "      <th>split0_test_score</th>\n",
              "      <th>split1_test_score</th>\n",
              "      <th>split2_test_score</th>\n",
              "      <th>split3_test_score</th>\n",
              "      <th>split4_test_score</th>\n",
              "      <th>mean_test_score</th>\n",
              "      <th>std_test_score</th>\n",
              "      <th>rank_test_score</th>\n",
              "    </tr>\n",
              "  </thead>\n",
              "  <tbody>\n",
              "    <tr>\n",
              "      <th>0</th>\n",
              "      <td>0.039101</td>\n",
              "      <td>0.010999</td>\n",
              "      <td>0.010889</td>\n",
              "      <td>0.006920</td>\n",
              "      <td>2</td>\n",
              "      <td>10</td>\n",
              "      <td>{'max_depth': 2, 'n_estimators': 10}</td>\n",
              "      <td>0.9375</td>\n",
              "      <td>0.9375</td>\n",
              "      <td>0.9500</td>\n",
              "      <td>0.949367</td>\n",
              "      <td>0.949367</td>\n",
              "      <td>0.944747</td>\n",
              "      <td>0.005922</td>\n",
              "      <td>9</td>\n",
              "    </tr>\n",
              "    <tr>\n",
              "      <th>1</th>\n",
              "      <td>0.136031</td>\n",
              "      <td>0.039477</td>\n",
              "      <td>0.016655</td>\n",
              "      <td>0.010456</td>\n",
              "      <td>2</td>\n",
              "      <td>30</td>\n",
              "      <td>{'max_depth': 2, 'n_estimators': 30}</td>\n",
              "      <td>0.9750</td>\n",
              "      <td>0.9500</td>\n",
              "      <td>0.9625</td>\n",
              "      <td>0.987342</td>\n",
              "      <td>0.936709</td>\n",
              "      <td>0.962310</td>\n",
              "      <td>0.017858</td>\n",
              "      <td>1</td>\n",
              "    </tr>\n",
              "    <tr>\n",
              "      <th>2</th>\n",
              "      <td>0.221960</td>\n",
              "      <td>0.070111</td>\n",
              "      <td>0.019403</td>\n",
              "      <td>0.006779</td>\n",
              "      <td>2</td>\n",
              "      <td>50</td>\n",
              "      <td>{'max_depth': 2, 'n_estimators': 50}</td>\n",
              "      <td>0.9375</td>\n",
              "      <td>0.9500</td>\n",
              "      <td>0.9500</td>\n",
              "      <td>0.987342</td>\n",
              "      <td>0.949367</td>\n",
              "      <td>0.954842</td>\n",
              "      <td>0.016934</td>\n",
              "      <td>4</td>\n",
              "    </tr>\n",
              "    <tr>\n",
              "      <th>3</th>\n",
              "      <td>0.058626</td>\n",
              "      <td>0.029230</td>\n",
              "      <td>0.011493</td>\n",
              "      <td>0.008415</td>\n",
              "      <td>3</td>\n",
              "      <td>10</td>\n",
              "      <td>{'max_depth': 3, 'n_estimators': 10}</td>\n",
              "      <td>0.9500</td>\n",
              "      <td>0.9375</td>\n",
              "      <td>0.9750</td>\n",
              "      <td>0.949367</td>\n",
              "      <td>0.936709</td>\n",
              "      <td>0.949715</td>\n",
              "      <td>0.013841</td>\n",
              "      <td>7</td>\n",
              "    </tr>\n",
              "    <tr>\n",
              "      <th>4</th>\n",
              "      <td>0.124020</td>\n",
              "      <td>0.048927</td>\n",
              "      <td>0.011356</td>\n",
              "      <td>0.003279</td>\n",
              "      <td>3</td>\n",
              "      <td>30</td>\n",
              "      <td>{'max_depth': 3, 'n_estimators': 30}</td>\n",
              "      <td>0.9375</td>\n",
              "      <td>0.9375</td>\n",
              "      <td>0.9625</td>\n",
              "      <td>0.987342</td>\n",
              "      <td>0.936709</td>\n",
              "      <td>0.952310</td>\n",
              "      <td>0.020066</td>\n",
              "      <td>6</td>\n",
              "    </tr>\n",
              "    <tr>\n",
              "      <th>5</th>\n",
              "      <td>0.227227</td>\n",
              "      <td>0.064193</td>\n",
              "      <td>0.022303</td>\n",
              "      <td>0.008268</td>\n",
              "      <td>3</td>\n",
              "      <td>50</td>\n",
              "      <td>{'max_depth': 3, 'n_estimators': 50}</td>\n",
              "      <td>0.9375</td>\n",
              "      <td>0.9375</td>\n",
              "      <td>0.9750</td>\n",
              "      <td>0.987342</td>\n",
              "      <td>0.936709</td>\n",
              "      <td>0.954810</td>\n",
              "      <td>0.021876</td>\n",
              "      <td>5</td>\n",
              "    </tr>\n",
              "    <tr>\n",
              "      <th>6</th>\n",
              "      <td>0.065340</td>\n",
              "      <td>0.018075</td>\n",
              "      <td>0.009824</td>\n",
              "      <td>0.004097</td>\n",
              "      <td>5</td>\n",
              "      <td>10</td>\n",
              "      <td>{'max_depth': 5, 'n_estimators': 10}</td>\n",
              "      <td>0.9625</td>\n",
              "      <td>0.9375</td>\n",
              "      <td>0.9625</td>\n",
              "      <td>0.974684</td>\n",
              "      <td>0.949367</td>\n",
              "      <td>0.957310</td>\n",
              "      <td>0.012738</td>\n",
              "      <td>2</td>\n",
              "    </tr>\n",
              "    <tr>\n",
              "      <th>7</th>\n",
              "      <td>0.134198</td>\n",
              "      <td>0.028054</td>\n",
              "      <td>0.014422</td>\n",
              "      <td>0.006669</td>\n",
              "      <td>5</td>\n",
              "      <td>30</td>\n",
              "      <td>{'max_depth': 5, 'n_estimators': 30}</td>\n",
              "      <td>0.9375</td>\n",
              "      <td>0.9500</td>\n",
              "      <td>0.9750</td>\n",
              "      <td>0.987342</td>\n",
              "      <td>0.936709</td>\n",
              "      <td>0.957310</td>\n",
              "      <td>0.020421</td>\n",
              "      <td>2</td>\n",
              "    </tr>\n",
              "    <tr>\n",
              "      <th>8</th>\n",
              "      <td>0.259437</td>\n",
              "      <td>0.069150</td>\n",
              "      <td>0.021700</td>\n",
              "      <td>0.013713</td>\n",
              "      <td>5</td>\n",
              "      <td>50</td>\n",
              "      <td>{'max_depth': 5, 'n_estimators': 50}</td>\n",
              "      <td>0.9250</td>\n",
              "      <td>0.9375</td>\n",
              "      <td>0.9500</td>\n",
              "      <td>0.974684</td>\n",
              "      <td>0.949367</td>\n",
              "      <td>0.947310</td>\n",
              "      <td>0.016461</td>\n",
              "      <td>8</td>\n",
              "    </tr>\n",
              "  </tbody>\n",
              "</table>\n",
              "</div>\n",
              "      <button class=\"colab-df-convert\" onclick=\"convertToInteractive('df-dfd96b91-450d-45ec-bfb4-c21173a21c56')\"\n",
              "              title=\"Convert this dataframe to an interactive table.\"\n",
              "              style=\"display:none;\">\n",
              "        \n",
              "  <svg xmlns=\"http://www.w3.org/2000/svg\" height=\"24px\"viewBox=\"0 0 24 24\"\n",
              "       width=\"24px\">\n",
              "    <path d=\"M0 0h24v24H0V0z\" fill=\"none\"/>\n",
              "    <path d=\"M18.56 5.44l.94 2.06.94-2.06 2.06-.94-2.06-.94-.94-2.06-.94 2.06-2.06.94zm-11 1L8.5 8.5l.94-2.06 2.06-.94-2.06-.94L8.5 2.5l-.94 2.06-2.06.94zm10 10l.94 2.06.94-2.06 2.06-.94-2.06-.94-.94-2.06-.94 2.06-2.06.94z\"/><path d=\"M17.41 7.96l-1.37-1.37c-.4-.4-.92-.59-1.43-.59-.52 0-1.04.2-1.43.59L10.3 9.45l-7.72 7.72c-.78.78-.78 2.05 0 2.83L4 21.41c.39.39.9.59 1.41.59.51 0 1.02-.2 1.41-.59l7.78-7.78 2.81-2.81c.8-.78.8-2.07 0-2.86zM5.41 20L4 18.59l7.72-7.72 1.47 1.35L5.41 20z\"/>\n",
              "  </svg>\n",
              "      </button>\n",
              "      \n",
              "  <style>\n",
              "    .colab-df-container {\n",
              "      display:flex;\n",
              "      flex-wrap:wrap;\n",
              "      gap: 12px;\n",
              "    }\n",
              "\n",
              "    .colab-df-convert {\n",
              "      background-color: #E8F0FE;\n",
              "      border: none;\n",
              "      border-radius: 50%;\n",
              "      cursor: pointer;\n",
              "      display: none;\n",
              "      fill: #1967D2;\n",
              "      height: 32px;\n",
              "      padding: 0 0 0 0;\n",
              "      width: 32px;\n",
              "    }\n",
              "\n",
              "    .colab-df-convert:hover {\n",
              "      background-color: #E2EBFA;\n",
              "      box-shadow: 0px 1px 2px rgba(60, 64, 67, 0.3), 0px 1px 3px 1px rgba(60, 64, 67, 0.15);\n",
              "      fill: #174EA6;\n",
              "    }\n",
              "\n",
              "    [theme=dark] .colab-df-convert {\n",
              "      background-color: #3B4455;\n",
              "      fill: #D2E3FC;\n",
              "    }\n",
              "\n",
              "    [theme=dark] .colab-df-convert:hover {\n",
              "      background-color: #434B5C;\n",
              "      box-shadow: 0px 1px 3px 1px rgba(0, 0, 0, 0.15);\n",
              "      filter: drop-shadow(0px 1px 2px rgba(0, 0, 0, 0.3));\n",
              "      fill: #FFFFFF;\n",
              "    }\n",
              "  </style>\n",
              "\n",
              "      <script>\n",
              "        const buttonEl =\n",
              "          document.querySelector('#df-dfd96b91-450d-45ec-bfb4-c21173a21c56 button.colab-df-convert');\n",
              "        buttonEl.style.display =\n",
              "          google.colab.kernel.accessAllowed ? 'block' : 'none';\n",
              "\n",
              "        async function convertToInteractive(key) {\n",
              "          const element = document.querySelector('#df-dfd96b91-450d-45ec-bfb4-c21173a21c56');\n",
              "          const dataTable =\n",
              "            await google.colab.kernel.invokeFunction('convertToInteractive',\n",
              "                                                     [key], {});\n",
              "          if (!dataTable) return;\n",
              "\n",
              "          const docLinkHtml = 'Like what you see? Visit the ' +\n",
              "            '<a target=\"_blank\" href=https://colab.research.google.com/notebooks/data_table.ipynb>data table notebook</a>'\n",
              "            + ' to learn more about interactive tables.';\n",
              "          element.innerHTML = '';\n",
              "          dataTable['output_type'] = 'display_data';\n",
              "          await google.colab.output.renderOutput(dataTable, element);\n",
              "          const docLink = document.createElement('div');\n",
              "          docLink.innerHTML = docLinkHtml;\n",
              "          element.appendChild(docLink);\n",
              "        }\n",
              "      </script>\n",
              "    </div>\n",
              "  </div>\n",
              "  "
            ]
          },
          "metadata": {},
          "execution_count": 15
        }
      ]
    },
    {
      "cell_type": "code",
      "source": [
        "x = results.index\n",
        "\n",
        "fig, ax = plt.subplots(1, 1)\n",
        "plt.errorbar(x, results['mean_test_score'], results['std_test_score'], # 변경\n",
        "             ecolor='red', elinewidth=2,\n",
        "             capsize=7, capthick=2,\n",
        "             linewidth=2, linestyle='--', color='lightgray',\n",
        "             marker='s', markerfacecolor='white', markeredgecolor='red', markersize=8)\n",
        "ax.set_xticks(x)\n",
        "ax.set_xticklabels(results['rank_test_score']) # 변경\n",
        "ax.set_xlabel('Rank of Test Score') # 추가\n",
        "plt.show()"
      ],
      "metadata": {
        "colab": {
          "base_uri": "https://localhost:8080/",
          "height": 279
        },
        "id": "dOlIqrjjCC8F",
        "outputId": "021594db-3f10-406d-e147-2af6574c5ec7"
      },
      "execution_count": 16,
      "outputs": [
        {
          "output_type": "display_data",
          "data": {
            "text/plain": [
              "<Figure size 432x288 with 1 Axes>"
            ],
            "image/png": "[encoded data removed]"
          },
          "metadata": {
            "needs_background": "light"
          }
        }
      ]
    },
    {
      "cell_type": "code",
      "source": [
        "best_clf = grid_clf.best_estimator_\n",
        "best_prd = best_clf.predict(tst_X)\n",
        "print(classification_report(tst_y, best_prd))"
      ],
      "metadata": {
        "colab": {
          "base_uri": "https://localhost:8080/"
        },
        "id": "oWindyEVBw9r",
        "outputId": "a52800d8-2263-4ccc-f3ae-c227ef584275"
      },
      "execution_count": 17,
      "outputs": [
        {
          "output_type": "stream",
          "name": "stdout",
          "text": [
            "              precision    recall  f1-score   support\n",
            "\n",
            "           0       0.98      0.85      0.91        66\n",
            "           1       0.91      0.99      0.95       105\n",
            "\n",
            "    accuracy                           0.94       171\n",
            "   macro avg       0.95      0.92      0.93       171\n",
            "weighted avg       0.94      0.94      0.93       171\n",
            "\n"
          ]
        }
      ]
    },
    {
      "cell_type": "markdown",
      "source": [
        "**성능 비교 with 파라메터 최적화**"
      ],
      "metadata": {
        "id": "h5pMSDrqDLhB"
      }
    },
    {
      "cell_type": "code",
      "source": [
        "from sklearn.tree import DecisionTreeClassifier\n",
        "from sklearn.ensemble import AdaBoostClassifier\n",
        "\n",
        "MaxDepth = [2, 4, 6, 8]\n",
        "NEstimators = [10, 30, 50, 70, 90, 100, 300, 500, 700]"
      ],
      "metadata": {
        "id": "ttyYi0ouDROa"
      },
      "execution_count": 18,
      "outputs": []
    },
    {
      "cell_type": "code",
      "source": [
        "num_cv = 5\n",
        "\n",
        "params_DT = {'max_depth': MaxDepth}\n",
        "clf_DT = DecisionTreeClassifier()\n",
        "\n",
        "grid_DT = GridSearchCV(clf_DT, param_grid=params_DT, cv=num_cv, n_jobs=-1).fit(trn_X, trn_y)"
      ],
      "metadata": {
        "id": "cpRyEmNiEaly"
      },
      "execution_count": 19,
      "outputs": []
    },
    {
      "cell_type": "code",
      "source": [
        "params_RF = {'n_estimators': NEstimators,\n",
        "             'max_depth': MaxDepth}\n",
        "clf_RF = RandomForestClassifier()\n",
        "\n",
        "grid_RF = GridSearchCV(clf_RF, param_grid=params_RF, cv=num_cv, n_jobs=-1).fit(trn_X, trn_y)"
      ],
      "metadata": {
        "id": "wuk_4RLGE5LO"
      },
      "execution_count": 20,
      "outputs": []
    },
    {
      "cell_type": "code",
      "source": [
        "params_AB = {'n_estimators': NEstimators}\n",
        "clf_AB_stump = AdaBoostClassifier()\n",
        "\n",
        "grid_AB_stump = GridSearchCV(clf_AB_stump, param_grid=params_AB, cv=num_cv, n_jobs=-1).fit(trn_X, trn_y)"
      ],
      "metadata": {
        "id": "zLLwFaQNF1dr"
      },
      "execution_count": 21,
      "outputs": []
    },
    {
      "cell_type": "code",
      "source": [
        "clf_AB_dt = AdaBoostClassifier(base_estimator=grid_DT.best_estimator_)\n",
        "\n",
        "grid_AB_dt = GridSearchCV(clf_AB_dt, param_grid=params_AB, cv=num_cv, n_jobs=-1).fit(trn_X, trn_y)"
      ],
      "metadata": {
        "id": "cYRz19G9FTZ1"
      },
      "execution_count": 22,
      "outputs": []
    },
    {
      "cell_type": "code",
      "source": [
        "results_DT = pd.DataFrame(grid_DT.cv_results_)\n",
        "results_RF = pd.DataFrame(grid_RF.cv_results_)\n",
        "results_AB_stump = pd.DataFrame(grid_AB_stump.cv_results_)\n",
        "results_AB_dt = pd.DataFrame(grid_AB_dt.cv_results_)\n",
        "\n",
        "results_list = [results_DT, results_RF, results_AB_stump, results_AB_dt]"
      ],
      "metadata": {
        "id": "Jzr8TrUfEX5i"
      },
      "execution_count": 23,
      "outputs": []
    },
    {
      "cell_type": "code",
      "source": [
        "def get_acc(results, get='avg'):\n",
        "  if get == 'avg':\n",
        "    return float(results[results['rank_test_score']==1]['mean_test_score'])\n",
        "  elif get == 'std':\n",
        "    return float(results[results['rank_test_score']==1]['std_test_score'])\n",
        "\n",
        "acc_avg = [get_acc(res, get='avg') for res in results_list]\n",
        "acc_std = [get_acc(res, get='std') for res in results_list]"
      ],
      "metadata": {
        "id": "yrva58tkGg5a"
      },
      "execution_count": 24,
      "outputs": []
    },
    {
      "cell_type": "code",
      "source": [
        "fig, ax = plt.subplots(1, 1)\n",
        "\n",
        "x = [v for v in range(len(results_list))]\n",
        "plt.errorbar(x, acc_avg, acc_std,\n",
        "             ecolor='red', elinewidth=2,\n",
        "             capsize=7, capthick=2,\n",
        "             linewidth=2, linestyle='--', color='lightgray',\n",
        "             marker='s', markerfacecolor='white', markeredgecolor='red', markersize=8)\n",
        "ax.set_xticks(x)\n",
        "ax.set_xticklabels(['DT', 'RF', 'AB(stump)', 'AB(DT)'])\n",
        "plt.show()"
      ],
      "metadata": {
        "colab": {
          "base_uri": "https://localhost:8080/",
          "height": 265
        },
        "id": "sDb3dd6AHgDZ",
        "outputId": "7bb36ba9-a224-4783-9360-aacb6be90ac3"
      },
      "execution_count": 25,
      "outputs": [
        {
          "output_type": "display_data",
          "data": {
            "text/plain": [
              "<Figure size 432x288 with 1 Axes>"
            ],
            "image/png": "[encoded data removed]"
          },
          "metadata": {
            "needs_background": "light"
          }
        }
      ]
    }
  ]
}