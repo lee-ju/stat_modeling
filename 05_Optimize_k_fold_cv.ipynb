{
  "nbformat": 4,
  "nbformat_minor": 0,
  "metadata": {
    "colab": {
      "provenance": []
    },
    "kernelspec": {
      "name": "python3",
      "display_name": "Python 3"
    },
    "language_info": {
      "name": "python"
    }
  },
  "cells": [
    {
      "cell_type": "markdown",
      "source": [
        "**데이터 불러오기: Breast Cancer**"
      ],
      "metadata": {
        "id": "GnhDQtuPQmMk"
      }
    },
    {
      "cell_type": "code",
      "source": [
        "# https://scikit-learn.org/stable/modules/generated/sklearn.datasets.load_breast_cancer.html#sklearn.datasets.load_breast_cancer\n",
        "import numpy as np\n",
        "import pandas as pd\n",
        "import matplotlib.pyplot as plt\n",
        "%matplotlib inline\n",
        "\n",
        "from sklearn.datasets import load_breast_cancer\n",
        "X, y = load_breast_cancer(return_X_y=True, as_frame=True)"
      ],
      "metadata": {
        "id": "w-erF3gYJ3iy"
      },
      "execution_count": null,
      "outputs": []
    },
    {
      "cell_type": "code",
      "source": [
        "print(X.columns)"
      ],
      "metadata": {
        "colab": {
          "base_uri": "https://localhost:8080/"
        },
        "id": "AEv_8qfcKsys",
        "outputId": "bac1fb21-d7a8-48a7-b68a-164e8b39247f"
      },
      "execution_count": null,
      "outputs": [
        {
          "output_type": "stream",
          "name": "stdout",
          "text": [
            "Index(['mean radius', 'mean texture', 'mean perimeter', 'mean area',\n",
            "       'mean smoothness', 'mean compactness', 'mean concavity',\n",
            "       'mean concave points', 'mean symmetry', 'mean fractal dimension',\n",
            "       'radius error', 'texture error', 'perimeter error', 'area error',\n",
            "       'smoothness error', 'compactness error', 'concavity error',\n",
            "       'concave points error', 'symmetry error', 'fractal dimension error',\n",
            "       'worst radius', 'worst texture', 'worst perimeter', 'worst area',\n",
            "       'worst smoothness', 'worst compactness', 'worst concavity',\n",
            "       'worst concave points', 'worst symmetry', 'worst fractal dimension'],\n",
            "      dtype='object')\n"
          ]
        }
      ]
    },
    {
      "cell_type": "markdown",
      "source": [
        "**데이터 분할**"
      ],
      "metadata": {
        "id": "2DT5Xi__QrDN"
      }
    },
    {
      "cell_type": "code",
      "source": [
        "from sklearn.model_selection import train_test_split\n",
        "trn_X, tst_X, trn_y, tst_y = train_test_split(X, y, test_size=0.3,\n",
        "                                              random_state=1234)\n",
        "print(trn_X.shape, tst_X.shape)"
      ],
      "metadata": {
        "colab": {
          "base_uri": "https://localhost:8080/"
        },
        "id": "g80-r1LnLtg_",
        "outputId": "0d9737b0-8ca5-48b3-d34f-3071371ec528"
      },
      "execution_count": null,
      "outputs": [
        {
          "output_type": "stream",
          "name": "stdout",
          "text": [
            "(398, 30) (171, 30)\n"
          ]
        }
      ]
    },
    {
      "cell_type": "markdown",
      "source": [
        "**데이터 분할 with k-fold CV**"
      ],
      "metadata": {
        "id": "6IfokCrQQtJH"
      }
    },
    {
      "cell_type": "code",
      "source": [
        "from sklearn.model_selection import KFold\n",
        "\n",
        "num_cv = 5 # k in k-fold cv\n",
        "k_fold = KFold(n_splits=num_cv, shuffle=True)\n",
        "\n",
        "k = 1\n",
        "for idx_trn, idx_val in k_fold.split(trn_X):\n",
        "  X_trn, X_val = trn_X.iloc[idx_trn, :], trn_X.iloc[idx_val, :]\n",
        "  y_trn, y_val = trn_y.iloc[idx_trn], trn_y.iloc[idx_val]\n",
        "\n",
        "  ratio_train = round(X_trn.shape[0] / trn_X.shape[0], 4)\n",
        "  ratio_valid = round(X_val.shape[0] / trn_X.shape[0], 4)\n",
        "  print('k={}, training={}%, validation={}%'.format(k,\n",
        "                                                    ratio_train*100,\n",
        "                                                    ratio_valid*100))\n",
        "  k += 1"
      ],
      "metadata": {
        "colab": {
          "base_uri": "https://localhost:8080/"
        },
        "id": "MgXNbR6gMGoR",
        "outputId": "83a84daf-8c93-4065-9c8c-a4e485bb9a8c"
      },
      "execution_count": null,
      "outputs": [
        {
          "output_type": "stream",
          "name": "stdout",
          "text": [
            "k=1, training=79.9%, validation=20.1%\n",
            "k=2, training=79.9%, validation=20.1%\n",
            "k=3, training=79.9%, validation=20.1%\n",
            "k=4, training=80.15%, validation=19.85%\n",
            "k=5, training=80.15%, validation=19.85%\n"
          ]
        }
      ]
    },
    {
      "cell_type": "code",
      "source": [
        "from sklearn.ensemble import RandomForestClassifier\n",
        "from sklearn.metrics import accuracy_score\n",
        "num_cv = 5\n",
        "k_fold = KFold(n_splits=num_cv, shuffle=True)\n",
        "\n",
        "acc = []\n",
        "k = 1\n",
        "for idx_trn, idx_val in k_fold.split(trn_X):\n",
        "  print('Iteration', k)\n",
        "  \n",
        "  X_trn, X_val = trn_X.iloc[idx_trn, :], trn_X.iloc[idx_val, :]\n",
        "  y_trn, y_val = trn_y.iloc[idx_trn], trn_y.iloc[idx_val]\n",
        "\n",
        "  clf = RandomForestClassifier(n_estimators=50,\n",
        "                               max_depth=5,\n",
        "                               max_features='sqrt').fit(X_trn, y_trn)\n",
        "  prd = clf.predict(X_val)\n",
        "\n",
        "  acc.append(\n",
        "      accuracy_score(y_val, prd)\n",
        "  )\n",
        "\n",
        "  k += 1"
      ],
      "metadata": {
        "colab": {
          "base_uri": "https://localhost:8080/"
        },
        "id": "xr4nRZ4-MGja",
        "outputId": "63445949-779e-4650-e3dc-6953f851d0f3"
      },
      "execution_count": null,
      "outputs": [
        {
          "output_type": "stream",
          "name": "stdout",
          "text": [
            "Iteration 1\n",
            "Iteration 2\n",
            "Iteration 3\n",
            "Iteration 4\n",
            "Iteration 5\n"
          ]
        }
      ]
    },
    {
      "cell_type": "code",
      "source": [
        "print('정확도의 개수:', len(acc))\n",
        "print('정확도의 평균:', np.mean(acc))\n",
        "print('정확도의 편차:', np.std(acc))"
      ],
      "metadata": {
        "colab": {
          "base_uri": "https://localhost:8080/"
        },
        "id": "synLnV3TMGg4",
        "outputId": "adff0042-3f89-48b4-b294-473fecd9bd8a"
      },
      "execution_count": null,
      "outputs": [
        {
          "output_type": "stream",
          "name": "stdout",
          "text": [
            "정확도의 개수: 5\n",
            "정확도의 평균: 0.9572784810126581\n",
            "정확도의 편차: 0.012787708031012772\n"
          ]
        }
      ]
    },
    {
      "cell_type": "markdown",
      "source": [
        "**k-fold CV + Hyperparameter 선택**"
      ],
      "metadata": {
        "id": "Gb--EmJFQjvH"
      }
    },
    {
      "cell_type": "code",
      "source": [
        "num_trees = [10, 30, 50]\n",
        "max_depths = [2, 3, 5]\n",
        "\n",
        "num_cv = 5\n",
        "k_fold = KFold(n_splits=num_cv, shuffle=True)\n",
        "\n",
        "k = 1\n",
        "acc_avg = []\n",
        "acc_std = []\n",
        "params = []\n",
        "\n",
        "# 하이퍼파라메터 선택\n",
        "for T in num_trees:\n",
        "  for M in max_depths:\n",
        "\n",
        "    params.append(str(T)+'&'+str(M))\n",
        "    # k-fold CV\n",
        "    acc = []\n",
        "    k = 1\n",
        "    for idx_trn, idx_val in k_fold.split(trn_X):\n",
        "      print('n_estimators={}, max_depth={}, k={}'.format(T, M, k))\n",
        "      \n",
        "      X_trn, X_val = trn_X.iloc[idx_trn, :], trn_X.iloc[idx_val, :]\n",
        "      y_trn, y_val = trn_y.iloc[idx_trn], trn_y.iloc[idx_val]\n",
        "\n",
        "      clf = RandomForestClassifier(n_estimators=T,\n",
        "                                   max_depth=M).fit(X_trn, y_trn)\n",
        "      prd = clf.predict(X_val)\n",
        "\n",
        "      acc.append(\n",
        "          accuracy_score(y_val, prd)\n",
        "      )\n",
        "      k += 1\n",
        "    \n",
        "    acc_avg.append(np.mean(acc))\n",
        "    acc_std.append(np.std(acc))\n",
        "    print('\\n')"
      ],
      "metadata": {
        "colab": {
          "base_uri": "https://localhost:8080/"
        },
        "id": "0-e9Jn_QMGeP",
        "outputId": "9fdc37a6-e708-466b-c184-762aaf979cdb"
      },
      "execution_count": null,
      "outputs": [
        {
          "output_type": "stream",
          "name": "stdout",
          "text": [
            "n_estimators=10, max_depth=2, k=1\n",
            "n_estimators=10, max_depth=2, k=2\n",
            "n_estimators=10, max_depth=2, k=3\n",
            "n_estimators=10, max_depth=2, k=4\n",
            "n_estimators=10, max_depth=2, k=5\n",
            "\n",
            "\n",
            "n_estimators=10, max_depth=3, k=1\n",
            "n_estimators=10, max_depth=3, k=2\n",
            "n_estimators=10, max_depth=3, k=3\n",
            "n_estimators=10, max_depth=3, k=4\n",
            "n_estimators=10, max_depth=3, k=5\n",
            "\n",
            "\n",
            "n_estimators=10, max_depth=5, k=1\n",
            "n_estimators=10, max_depth=5, k=2\n",
            "n_estimators=10, max_depth=5, k=3\n",
            "n_estimators=10, max_depth=5, k=4\n",
            "n_estimators=10, max_depth=5, k=5\n",
            "\n",
            "\n",
            "n_estimators=30, max_depth=2, k=1\n",
            "n_estimators=30, max_depth=2, k=2\n",
            "n_estimators=30, max_depth=2, k=3\n",
            "n_estimators=30, max_depth=2, k=4\n",
            "n_estimators=30, max_depth=2, k=5\n",
            "\n",
            "\n",
            "n_estimators=30, max_depth=3, k=1\n",
            "n_estimators=30, max_depth=3, k=2\n",
            "n_estimators=30, max_depth=3, k=3\n",
            "n_estimators=30, max_depth=3, k=4\n",
            "n_estimators=30, max_depth=3, k=5\n",
            "\n",
            "\n",
            "n_estimators=30, max_depth=5, k=1\n",
            "n_estimators=30, max_depth=5, k=2\n",
            "n_estimators=30, max_depth=5, k=3\n",
            "n_estimators=30, max_depth=5, k=4\n",
            "n_estimators=30, max_depth=5, k=5\n",
            "\n",
            "\n",
            "n_estimators=50, max_depth=2, k=1\n",
            "n_estimators=50, max_depth=2, k=2\n",
            "n_estimators=50, max_depth=2, k=3\n",
            "n_estimators=50, max_depth=2, k=4\n",
            "n_estimators=50, max_depth=2, k=5\n",
            "\n",
            "\n",
            "n_estimators=50, max_depth=3, k=1\n",
            "n_estimators=50, max_depth=3, k=2\n",
            "n_estimators=50, max_depth=3, k=3\n",
            "n_estimators=50, max_depth=3, k=4\n",
            "n_estimators=50, max_depth=3, k=5\n",
            "\n",
            "\n",
            "n_estimators=50, max_depth=5, k=1\n",
            "n_estimators=50, max_depth=5, k=2\n",
            "n_estimators=50, max_depth=5, k=3\n",
            "n_estimators=50, max_depth=5, k=4\n",
            "n_estimators=50, max_depth=5, k=5\n",
            "\n",
            "\n"
          ]
        }
      ]
    },
    {
      "cell_type": "code",
      "source": [
        "results = pd.DataFrame({'params': params,\n",
        "                        'avg': acc_avg,\n",
        "                        'std': acc_std})\n",
        "print(results.sort_values('avg', ascending=False))"
      ],
      "metadata": {
        "colab": {
          "base_uri": "https://localhost:8080/"
        },
        "id": "D5I-WyuT8ne5",
        "outputId": "7db7e813-2362-4582-a2b2-0efe2caf003e"
      },
      "execution_count": null,
      "outputs": [
        {
          "output_type": "stream",
          "name": "stdout",
          "text": [
            "  params       avg       std\n",
            "2   10&5  0.962310  0.007909\n",
            "8   50&5  0.959937  0.022837\n",
            "3   30&2  0.959747  0.021772\n",
            "4   30&3  0.959747  0.021772\n",
            "1   10&3  0.959684  0.023225\n",
            "0   10&2  0.957278  0.025759\n",
            "5   30&5  0.957247  0.012961\n",
            "7   50&3  0.949620  0.038499\n",
            "6   50&2  0.944747  0.014972\n"
          ]
        }
      ]
    },
    {
      "cell_type": "code",
      "source": [
        "x = results.index\n",
        "fig, ax = plt.subplots(1, 1)\n",
        "plt.errorbar(x, results['avg'], results['std'],\n",
        "             ecolor='red', elinewidth=5,\n",
        "             capsize=8, capthick=1,\n",
        "             linewidth=4, linestyle='--', color='blue',\n",
        "             marker='o', markerfacecolor='black', markeredgecolor='green', markersize=10)\n",
        "ax.set_xticks(x)\n",
        "ax.set_xticklabels(results['params'])\n",
        "\n",
        "plt.show()"
      ],
      "metadata": {
        "colab": {
          "base_uri": "https://localhost:8080/",
          "height": 265
        },
        "id": "W4VLKSPK9X79",
        "outputId": "383af604-9f67-4595-9926-c8c20a30ecee"
      },
      "execution_count": null,
      "outputs": [
        {
          "output_type": "display_data",
          "data": {
            "text/plain": [
              "<Figure size 432x288 with 1 Axes>"
            ],
            "image/png": "[encoded data removed]"
          },
          "metadata": {
            "needs_background": "light"
          }
        }
      ]
    },
    {
      "cell_type": "code",
      "source": [
        "# T&M = 30&3일 때, 성능이 안정적이므로 선택\n",
        "# 또는 T&M = 10&5일 때, 성능이 가장 높으므로 선택할 수도 있음!\n",
        "\n",
        "opt_T = 30\n",
        "opt_max_depth = 3\n",
        "\n",
        "opt_clf = RandomForestClassifier(n_estimators=opt_T,\n",
        "                                 max_depth=opt_max_depth).fit(trn_X, trn_y)"
      ],
      "metadata": {
        "id": "TzjlbDrh9oE2"
      },
      "execution_count": null,
      "outputs": []
    },
    {
      "cell_type": "code",
      "source": [
        "from sklearn.metrics import confusion_matrix, classification_report\n",
        "opt_prd = opt_clf.predict(tst_X)\n",
        "print(confusion_matrix(tst_y, opt_prd))\n",
        "print(classification_report(tst_y, opt_prd))"
      ],
      "metadata": {
        "colab": {
          "base_uri": "https://localhost:8080/"
        },
        "id": "94WGwYmeAFT7",
        "outputId": "54938719-67f1-41cc-9280-e4c5a0a1b6ca"
      },
      "execution_count": null,
      "outputs": [
        {
          "output_type": "stream",
          "name": "stdout",
          "text": [
            "[[ 55  11]\n",
            " [  4 101]]\n",
            "              precision    recall  f1-score   support\n",
            "\n",
            "           0       0.93      0.83      0.88        66\n",
            "           1       0.90      0.96      0.93       105\n",
            "\n",
            "    accuracy                           0.91       171\n",
            "   macro avg       0.92      0.90      0.91       171\n",
            "weighted avg       0.91      0.91      0.91       171\n",
            "\n"
          ]
        }
      ]
    }
  ]
}